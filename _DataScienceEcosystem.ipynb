{
 "cells": [
  {
   "cell_type": "markdown",
   "id": "0cefd0b2-e360-4b2d-963e-54e718dd3c67",
   "metadata": {},
   "source": [
    "# Data Science Tools and Ecosystem\n"
   ]
  },
  {
   "cell_type": "markdown",
   "id": "ff6efbb1-dfc0-46ad-9e15-4f0adb75f389",
   "metadata": {},
   "source": [
    "## In this notebook, Data Science Tools and Ecosystem are summarized."
   ]
  },
  {
   "cell_type": "markdown",
   "id": "0187ffa9-3ad0-4f0d-9940-91b23d74e1f6",
   "metadata": {},
   "source": [
    "### Some of the popular languages that Data Scientists use are:\n",
    "1. Python\n",
    "2. R\n",
    "3. Julia\n"
   ]
  },
  {
   "cell_type": "markdown",
   "id": "f29fb3fa-cfe4-4a0e-aa80-f853ff8bc41e",
   "metadata": {},
   "source": [
    "### Some of the commonly used libraries used by Data Scientists include:\n",
    "1. Panda\n",
    "2. Numpy\n",
    "3. Matplot"
   ]
  },
  {
   "cell_type": "markdown",
   "id": "067c1577-c80a-42e9-af09-98c5e4cc09c4",
   "metadata": {},
   "source": [
    "| Data Science Tools| \n",
    "| ---    | \n",
    "| Juptyer notebook |\n",
    "| Rstudio |\n",
    "|  vscode |"
   ]
  },
  {
   "cell_type": "markdown",
   "id": "aca3c28d-0d3d-4d8e-8b5a-0d2cf62ea4ff",
   "metadata": {},
   "source": [
    "### Below are a few examples of evaluating arithmetic expressions in Python\n",
    "1. *\n",
    "2. /\n",
    "3. +\n",
    " "
   ]
  },
  {
   "cell_type": "code",
   "execution_count": 3,
   "id": "a0602fe6-c961-44e7-afa3-f071fd4be542",
   "metadata": {},
   "outputs": [
    {
     "data": {
      "text/plain": [
       "17"
      ]
     },
     "execution_count": 3,
     "metadata": {},
     "output_type": "execute_result"
    }
   ],
   "source": [
    "# This a simple arithmetic expression to mutiply then add integers\n",
    "(3*4)+5"
   ]
  },
  {
   "cell_type": "code",
   "execution_count": 15,
   "id": "efa82b71-5e42-4db4-a14a-773b36d281c0",
   "metadata": {},
   "outputs": [
    {
     "name": "stdout",
     "output_type": "stream",
     "text": [
      "3.3333333333333335\n"
     ]
    }
   ],
   "source": [
    "#  This will convert 200 minutes to hours by diving by 60\n",
    "minutes = 200\n",
    "hour = minutes / 60\n",
    "print( hour)"
   ]
  },
  {
   "cell_type": "markdown",
   "id": "63ad322c-f607-44ce-b3a1-1b66ee27a284",
   "metadata": {},
   "source": [
    " ### In this notebook, Data Science Tools and Ecosystem are summarized.\n",
    "__Objectives__:\n",
    " * List popular languages for Data Science\n",
    " * List popular tools for Data science\n",
    " * List popular libraries for Data science\n",
    " "
   ]
  },
  {
   "cell_type": "markdown",
   "id": "b25edc32-7db5-4455-9117-053f7904d9a2",
   "metadata": {},
   "source": [
    "## Author\n",
    "Abdelrahman Ahmed"
   ]
  },
  {
   "cell_type": "code",
   "execution_count": null,
   "id": "8cee9c16-8fb4-447e-8ec0-90cd7be45e81",
   "metadata": {},
   "outputs": [],
   "source": []
  }
 ],
 "metadata": {
  "kernelspec": {
   "display_name": "Python 3 (ipykernel)",
   "language": "python",
   "name": "python3"
  },
  "language_info": {
   "codemirror_mode": {
    "name": "ipython",
    "version": 3
   },
   "file_extension": ".py",
   "mimetype": "text/x-python",
   "name": "python",
   "nbconvert_exporter": "python",
   "pygments_lexer": "ipython3",
   "version": "3.12.8"
  }
 },
 "nbformat": 4,
 "nbformat_minor": 5
}
